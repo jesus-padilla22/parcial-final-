{
  "nbformat": 4,
  "nbformat_minor": 0,
  "metadata": {
    "colab": {
      "provenance": [],
      "include_colab_link": true
    },
    "kernelspec": {
      "name": "python3",
      "display_name": "Python 3"
    },
    "language_info": {
      "name": "python"
    }
  },
  "cells": [
    {
      "cell_type": "markdown",
      "metadata": {
        "id": "view-in-github",
        "colab_type": "text"
      },
      "source": [
        "<a href=\"https://colab.research.google.com/github/jesus-padilla22/parcial-final-/blob/main/Untitled22.ipynb\" target=\"_parent\"><img src=\"https://colab.research.google.com/assets/colab-badge.svg\" alt=\"Open In Colab\"/></a>"
      ]
    },
    {
      "cell_type": "markdown",
      "source": [
        "jesus padilla agresoth\n",
        "000501420\n"
      ],
      "metadata": {
        "id": "5uU401GQldBm"
      }
    },
    {
      "cell_type": "code",
      "execution_count": null,
      "metadata": {
        "colab": {
          "base_uri": "https://localhost:8080/"
        },
        "id": "scekuRK1nQDZ",
        "outputId": "5a432673-0bf5-4375-bec4-940fa3503396"
      },
      "outputs": [
        {
          "output_type": "stream",
          "name": "stdout",
          "text": [
            "Por favor, ingresa tu nombre: Julian\n",
            "Hola, Julian! ¡Bienvenido!\n"
          ]
        }
      ],
      "source": [
        "# Solicitar al usuario que ingrese su nombre\n",
        "nombre = input(\"Por favor, ingresa tu nombre: \")\n",
        "\n",
        "# Imprimir un mensaje de saludo con el nombre del usuario\n",
        "print(f\"Hola, {nombre}! ¡Bienvenido!\")"
      ]
    },
    {
      "cell_type": "code",
      "source": [
        "# Solicitar al usuario que ingrese la base del triángulo\n",
        "base = float(input(\"Ingresa la longitud de la base del triángulo: \"))\n",
        "\n",
        "# Solicitar al usuario que ingrese la altura del triángulo\n",
        "altura = float(input(\"Ingresa la altura del triángulo: \"))\n",
        "\n",
        "# Calcular el área del triángulo (Área = 1/2 * base * altura)\n",
        "area = 0.5 * base * altura\n",
        "\n",
        "# Mostrar el resultado\n",
        "print(f\"El área del triángulo con base {base} y altura {altura} es: {area}\")"
      ],
      "metadata": {
        "colab": {
          "base_uri": "https://localhost:8080/"
        },
        "id": "qSecNNPLneqn",
        "outputId": "9256614a-f400-4e19-e34e-120dc8a6abf2"
      },
      "execution_count": null,
      "outputs": [
        {
          "output_type": "stream",
          "name": "stdout",
          "text": [
            "Ingresa la longitud de la base del triángulo: 18\n",
            "Ingresa la altura del triángulo: 15\n",
            "El área del triángulo con base 18.0 y altura 15.0 es: 135.0\n"
          ]
        }
      ]
    },
    {
      "cell_type": "code",
      "source": [
        "# Solicitar al usuario que ingrese la temperatura en grados Celsius\n",
        "celsius = float(input(\"Ingresa la temperatura en grados Celsius: \"))\n",
        "\n",
        "# Convertir la temperatura a grados Fahrenheit\n",
        "fahrenheit = (celsius * 9/5) + 32\n",
        "\n",
        "# Mostrar el resultado\n",
        "print(f\"{celsius} grados Celsius equivalen a {fahrenheit} grados Fahrenheit\")\n"
      ],
      "metadata": {
        "colab": {
          "base_uri": "https://localhost:8080/"
        },
        "id": "1JXsfJbbnnOQ",
        "outputId": "45bf01df-83d5-4cd9-a71a-56b991ec9818"
      },
      "execution_count": null,
      "outputs": [
        {
          "output_type": "stream",
          "name": "stdout",
          "text": [
            "Ingresa la temperatura en grados Celsius: 42\n",
            "42.0 grados Celsius equivalen a 107.6 grados Fahrenheit\n"
          ]
        }
      ]
    },
    {
      "cell_type": "code",
      "source": [
        "# Solicitar al usuario que ingrese dos valores\n",
        "valor1 = input(\"Ingresa el primer valor: \")\n",
        "valor2 = input(\"Ingresa el segundo valor: \")\n",
        "\n",
        "# Imprimir los valores originales\n",
        "print(f\"Valores originales: valor1 = {valor1}, valor2 = {valor2}\")\n",
        "\n",
        "# Intercambiar los valores utilizando una variable temporal\n",
        "temp = valor1\n",
        "valor1 = valor2\n",
        "valor2 = temp\n",
        "\n",
        "# Imprimir los valores intercambiados\n",
        "print(f\"Valores intercambiados: valor1 = {valor1}, valor2 = {valor2}\")"
      ],
      "metadata": {
        "colab": {
          "base_uri": "https://localhost:8080/"
        },
        "id": "wbHA-WRVnvuO",
        "outputId": "77ed4ee4-806e-46ee-8910-6d79ff0b3909"
      },
      "execution_count": null,
      "outputs": [
        {
          "output_type": "stream",
          "name": "stdout",
          "text": [
            "Ingresa el primer valor: 5\n",
            "Ingresa el segundo valor: 8\n",
            "Valores originales: valor1 = 5, valor2 = 8\n",
            "Valores intercambiados: valor1 = 8, valor2 = 5\n"
          ]
        }
      ]
    },
    {
      "cell_type": "code",
      "source": [
        "# Solicitar al usuario que ingrese tres números\n",
        "numero1 = float(input(\"Ingresa el primer número: \"))\n",
        "numero2 = float(input(\"Ingresa el segundo número: \"))\n",
        "numero3 = float(input(\"Ingresa el tercer número: \"))\n",
        "\n",
        "# Calcular el promedio\n",
        "promedio = (numero1 + numero2 + numero3) / 3\n",
        "\n",
        "# Mostrar el resultado\n",
        "print(f\"El promedio de {numero1}, {numero2} y {numero3} es: {promedio}\")\n"
      ],
      "metadata": {
        "colab": {
          "base_uri": "https://localhost:8080/"
        },
        "id": "4fP6x8Nnn4xI",
        "outputId": "85615220-3e64-4055-9ac1-cd4bdd0b904c"
      },
      "execution_count": null,
      "outputs": [
        {
          "output_type": "stream",
          "name": "stdout",
          "text": [
            "Ingresa el primer número: 12\n",
            "Ingresa el segundo número: 45\n",
            "Ingresa el tercer número: 60\n",
            "El promedio de 12.0, 45.0 y 60.0 es: 39.0\n"
          ]
        }
      ]
    },
    {
      "cell_type": "code",
      "source": [
        "# Función para realizar una suma\n",
        "def suma(a, b):\n",
        "    return a + b\n",
        "\n",
        "# Función para realizar una resta\n",
        "def resta(a, b):\n",
        "    return a - b\n",
        "\n",
        "# Función para realizar una multiplicación\n",
        "def multiplicacion(a, b):\n",
        "    return a * b\n",
        "\n",
        "# Función para realizar una división\n",
        "def division(a, b):\n",
        "    if b != 0:\n",
        "        return a / b\n",
        "    else:\n",
        "        return \"Error: No se puede dividir por cero\"\n",
        "\n",
        "# Menú de la calculadora\n",
        "print(\"Operaciones disponibles:\")\n",
        "print(\"1. Suma\")\n",
        "print(\"2. Resta\")\n",
        "print(\"3. Multiplicación\")\n",
        "print(\"4. División\")\n",
        "\n",
        "# Solicitar al usuario que elija una operación\n",
        "opcion = input(\"Elije una operación (1/2/3/4): \")\n",
        "\n",
        "# Solicitar al usuario que ingrese dos números\n",
        "num1 = float(input(\"Ingresa el primer número: \"))\n",
        "num2 = float(input(\"Ingresa el segundo número: \"))\n",
        "\n",
        "# Realizar la operación seleccionada\n",
        "if opcion == '1':\n",
        "    resultado = suma(num1, num2)\n",
        "    operacion = \"suma\"\n",
        "elif opcion == '2':\n",
        "    resultado = resta(num1, num2)\n",
        "    operacion = \"resta\"\n",
        "elif opcion == '3':\n",
        "    resultado = multiplicacion(num1, num2)\n",
        "    operacion = \"multiplicación\"\n",
        "elif opcion == '4':\n",
        "    resultado = division(num1, num2)\n",
        "    operacion = \"división\"\n",
        "else:\n",
        "    resultado = \"Opción no válida\"\n",
        "    operacion = \"desconocida\"\n",
        "\n",
        "# Mostrar el resultado\n",
        "if type(resultado) == str:\n",
        "    print(resultado)\n",
        "else:\n",
        "    print(f\"El resultado de la {operacion} es: {resultado}\")\n"
      ],
      "metadata": {
        "colab": {
          "base_uri": "https://localhost:8080/"
        },
        "id": "CjIKzYTOoB_W",
        "outputId": "f41f979e-779f-4616-8601-4f03d1ef0614"
      },
      "execution_count": null,
      "outputs": [
        {
          "output_type": "stream",
          "name": "stdout",
          "text": [
            "Operaciones disponibles:\n",
            "1. Suma\n",
            "2. Resta\n",
            "3. Multiplicación\n",
            "4. División\n",
            "Elije una operación (1/2/3/4): 1\n",
            "Ingresa el primer número: 5\n",
            "Ingresa el segundo número: 8\n",
            "El resultado de la suma es: 13.0\n"
          ]
        }
      ]
    },
    {
      "cell_type": "code",
      "source": [
        "# Solicitar al usuario que ingrese un número\n",
        "numero = int(input(\"Ingresa un número entero: \"))\n",
        "\n",
        "# Determinar si el número es par o impar\n",
        "if numero % 2 == 0:\n",
        "    print(f\"{numero} es un número par.\")\n",
        "else:\n",
        "    print(f\"{numero} es un número impar.\")\n"
      ],
      "metadata": {
        "colab": {
          "base_uri": "https://localhost:8080/"
        },
        "id": "Ng64kWVLoMQY",
        "outputId": "d26a3332-4f15-42a3-9754-64adae38b0ee"
      },
      "execution_count": null,
      "outputs": [
        {
          "output_type": "stream",
          "name": "stdout",
          "text": [
            "Ingresa un número entero: 7\n",
            "7 es un número impar.\n"
          ]
        }
      ]
    },
    {
      "cell_type": "code",
      "source": [
        "# Solicitar al usuario que ingrese un número entero positivo\n",
        "numero = int(input(\"Ingresa un número entero positivo: \"))\n",
        "\n",
        "# Inicializar una variable para almacenar el resultado del factorial\n",
        "factorial = 1\n",
        "\n",
        "# Verificar si el número es positivo\n",
        "if numero < 0:\n",
        "    print(\"El factorial no está definido para números negativos.\")\n",
        "elif numero == 0:\n",
        "    print(\"El factorial de 0 es 1.\")\n",
        "else:\n",
        "    # Calcular el factorial usando un bucle for\n",
        "    for i in range(1, numero + 1):\n",
        "        factorial *= i\n",
        "\n",
        "    # Mostrar el resultado del factorial\n",
        "    print(f\"El factorial de {numero} es {factorial}\")\n"
      ],
      "metadata": {
        "colab": {
          "base_uri": "https://localhost:8080/"
        },
        "id": "EtPLQ2wyoR8R",
        "outputId": "5487b696-d4a7-46c8-c590-39e69a7ca7d0"
      },
      "execution_count": null,
      "outputs": [
        {
          "output_type": "stream",
          "name": "stdout",
          "text": [
            "Ingresa un número entero positivo: 15\n",
            "El factorial de 15 es 1307674368000\n"
          ]
        }
      ]
    },
    {
      "cell_type": "code",
      "source": [
        "import random\n",
        "\n",
        "# Generar un número aleatorio entre 1 y 100\n",
        "numero_aleatorio = random.randint(1, 100)\n",
        "\n",
        "intentos = 0\n",
        "\n",
        "print(\"Adivina el número entre 1 y 100.\")\n",
        "\n",
        "while True:\n",
        "    intentos += 1\n",
        "    intento = int(input(\"Ingresa tu suposición: \"))\n",
        "\n",
        "    if intento < numero_aleatorio:\n",
        "        print(\"El número es mayor. Intenta de nuevo.\")\n",
        "    elif intento > numero_aleatorio:\n",
        "        print(\"El número es menor. Intenta de nuevo.\")\n",
        "    else:\n",
        "        print(f\"¡Felicitaciones! Adivinaste el número {numero_aleatorio} en {intentos} intentos.\")\n",
        "        break\n"
      ],
      "metadata": {
        "colab": {
          "base_uri": "https://localhost:8080/"
        },
        "id": "jy3UFJrZoYT9",
        "outputId": "ad89a494-b1b4-4475-f17e-60f6620436ff"
      },
      "execution_count": null,
      "outputs": [
        {
          "output_type": "stream",
          "name": "stdout",
          "text": [
            "Adivina el número entre 1 y 100.\n",
            "Ingresa tu suposición: 52\n",
            "El número es menor. Intenta de nuevo.\n",
            "Ingresa tu suposición: 25\n",
            "El número es mayor. Intenta de nuevo.\n",
            "Ingresa tu suposición: 32\n",
            "El número es mayor. Intenta de nuevo.\n",
            "Ingresa tu suposición: 41\n",
            "El número es menor. Intenta de nuevo.\n",
            "Ingresa tu suposición: 37\n",
            "El número es mayor. Intenta de nuevo.\n",
            "Ingresa tu suposición: 40\n",
            "El número es menor. Intenta de nuevo.\n",
            "Ingresa tu suposición: 39\n",
            "El número es menor. Intenta de nuevo.\n",
            "Ingresa tu suposición: 38\n",
            "¡Felicitaciones! Adivinaste el número 38 en 8 intentos.\n"
          ]
        }
      ]
    },
    {
      "cell_type": "code",
      "source": [
        "# Solicitar al usuario que ingrese la cantidad en dólares\n",
        "dolares = float(input(\"Ingresa la cantidad en dólares: \"))\n",
        "\n",
        "# Definir la tasa de cambio (cambio de dólares a euros)\n",
        "tasa_cambio = 0.85  # Cambio actual de dólares a euros (cambia según la tasa actual)\n",
        "\n",
        "# Calcular la cantidad en euros\n",
        "euros = dolares * tasa_cambio\n",
        "\n",
        "# Mostrar el resultado\n",
        "print(f\"{dolares} dólares son equivalentes a {euros} euros.\")\n"
      ],
      "metadata": {
        "colab": {
          "base_uri": "https://localhost:8080/"
        },
        "id": "Wii-dGn8omrJ",
        "outputId": "25e563a7-ef6c-48de-ccdb-bd8154c5690c"
      },
      "execution_count": null,
      "outputs": [
        {
          "output_type": "stream",
          "name": "stdout",
          "text": [
            "Ingresa la cantidad en dólares: 25\n",
            "25.0 dólares son equivalentes a 21.25 euros.\n"
          ]
        }
      ]
    },
    {
      "cell_type": "code",
      "source": [
        "# Solicitar al usuario que ingrese un número\n",
        "numero = float(input(\"Ingresa un número: \"))\n",
        "\n",
        "# Determinar si el número es positivo, negativo o cero\n",
        "if numero > 0:\n",
        "    print(\"El número es positivo.\")\n",
        "elif numero < 0:\n",
        "    print(\"El número es negativo.\")\n",
        "else:\n",
        "    print(\"El número es cero.\")\n"
      ],
      "metadata": {
        "colab": {
          "base_uri": "https://localhost:8080/"
        },
        "id": "Wm-X7Sihovfh",
        "outputId": "55c26a7f-8ed4-4cc0-d420-5d4c7935521e"
      },
      "execution_count": null,
      "outputs": [
        {
          "output_type": "stream",
          "name": "stdout",
          "text": [
            "Ingresa un número: 41\n",
            "El número es positivo.\n"
          ]
        }
      ]
    },
    {
      "cell_type": "code",
      "source": [
        "# Solicitar al usuario que ingrese dos números\n",
        "numero1 = int(input(\"Ingresa el primer número: \"))\n",
        "numero2 = int(input(\"Ingresa el segundo número: \"))\n",
        "\n",
        "# Determinar si el primer número es divisible por el segundo\n",
        "if numero2 == 0:\n",
        "    print(\"Error: No se puede dividir por cero.\")\n",
        "elif numero1 % numero2 == 0:\n",
        "    print(f\"{numero1} es divisible por {numero2}.\")\n",
        "else:\n",
        "    print(f\"{numero1} no es divisible por {numero2}.\")\n"
      ],
      "metadata": {
        "colab": {
          "base_uri": "https://localhost:8080/"
        },
        "id": "uQyCR6Pho0Om",
        "outputId": "a686df48-e21b-4787-c800-5d4b069cec91"
      },
      "execution_count": null,
      "outputs": [
        {
          "output_type": "stream",
          "name": "stdout",
          "text": [
            "Ingresa el primer número: 8\n",
            "Ingresa el segundo número: 7\n",
            "8 no es divisible por 7.\n"
          ]
        }
      ]
    },
    {
      "cell_type": "code",
      "source": [
        "# Pedir al usuario que ingrese un año\n",
        "year = int(input(\"Ingrese un año: \"))\n",
        "\n",
        "# Determinar si es un año bisiesto\n",
        "if (year % 4 == 0 and year % 100 != 0) or (year % 400 == 0):\n",
        "    print(f\"{year} es un año bisiesto.\")\n",
        "else:\n",
        "    print(f\"{year} no es un año bisiesto.\")\n"
      ],
      "metadata": {
        "colab": {
          "base_uri": "https://localhost:8080/"
        },
        "id": "kHvYCRbDpCsG",
        "outputId": "1c375c74-4a77-4a91-e9c6-114f554ece49"
      },
      "execution_count": null,
      "outputs": [
        {
          "output_type": "stream",
          "name": "stdout",
          "text": [
            "Ingrese un año: 2008\n",
            "2008 es un año bisiesto.\n"
          ]
        }
      ]
    },
    {
      "cell_type": "code",
      "source": [
        "# Solicitar al usuario que ingrese las longitudes de los lados del triángulo\n",
        "lado1 = float(input(\"Ingrese la longitud del primer lado: \"))\n",
        "lado2 = float(input(\"Ingrese la longitud del segundo lado: \"))\n",
        "lado3 = float(input(\"Ingrese la longitud del tercer lado: \"))\n",
        "\n",
        "# Verificar si es posible formar un triángulo\n",
        "if lado1 + lado2 > lado3 and lado1 + lado3 > lado2 and lado2 + lado3 > lado1:\n",
        "    # Verificar el tipo de triángulo\n",
        "    if lado1 == lado2 == lado3:\n",
        "        print(\"Se forma un triángulo equilátero.\")\n",
        "    elif lado1 == lado2 or lado1 == lado3 or lado2 == lado3:\n",
        "        print(\"Se forma un triángulo isósceles.\")\n",
        "    else:\n",
        "        print(\"Se forma un triángulo escaleno.\")\n",
        "else:\n",
        "    print(\"No es posible formar un triángulo con estas longitudes.\")\n"
      ],
      "metadata": {
        "colab": {
          "base_uri": "https://localhost:8080/"
        },
        "id": "rxPftLc-pLb0",
        "outputId": "b0eaae0b-3d9d-42e0-90ff-92a244489257"
      },
      "execution_count": null,
      "outputs": [
        {
          "output_type": "stream",
          "name": "stdout",
          "text": [
            "Ingrese la longitud del primer lado: 14\n",
            "Ingrese la longitud del segundo lado: 17\n",
            "Ingrese la longitud del tercer lado: 20\n",
            "Se forma un triángulo escaleno.\n"
          ]
        }
      ]
    },
    {
      "cell_type": "code",
      "source": [
        "# Solicitar al usuario que ingrese su peso en kilogramos y su altura en metros\n",
        "peso = float(input(\"Ingrese su peso en kilogramos: \"))\n",
        "altura = float(input(\"Ingrese su altura en metros: \"))\n",
        "\n",
        "# Calcular el índice de masa corporal (IMC)\n",
        "imc = peso / (altura ** 2)\n",
        "\n",
        "# Mostrar el resultado del IMC\n",
        "print(\"Su índice de masa corporal (IMC) es:\", imc)\n",
        "\n",
        "# Interpretar el IMC\n",
        "if imc < 18.5:\n",
        "    print(\"Usted está bajo peso.\")\n",
        "elif 18.5 <= imc < 24.9:\n",
        "    print(\"Su peso es normal.\")\n",
        "elif 24.9 <= imc < 29.9:\n",
        "    print(\"Usted tiene sobrepeso.\")\n",
        "else:\n",
        "    print(\"Usted está en la categoría de obesidad.\")\n",
        "\n"
      ],
      "metadata": {
        "colab": {
          "base_uri": "https://localhost:8080/"
        },
        "id": "SGK0ccUipQMB",
        "outputId": "10e7d24f-cec4-4a3e-997c-92c651f31f21"
      },
      "execution_count": null,
      "outputs": [
        {
          "output_type": "stream",
          "name": "stdout",
          "text": [
            "Ingrese su peso en kilogramos: 60\n",
            "Ingrese su altura en metros: 1.72\n",
            "Su índice de masa corporal (IMC) es: 20.281233098972418\n",
            "Su peso es normal.\n"
          ]
        }
      ]
    },
    {
      "cell_type": "code",
      "source": [
        "import random\n",
        "\n",
        "def juego_de_adivinanza():\n",
        "    numero_aleatorio = random.randint(1, 100)\n",
        "    intentos = 0\n",
        "\n",
        "    print(\"Bienvenido al juego de adivinanza de números. Adivina el número entre 1 y 100.\")\n",
        "\n",
        "    while True:\n",
        "        try:\n",
        "            intento = int(input(\"Introduce tu adivinanza: \"))\n",
        "            intentos += 1\n",
        "\n",
        "            if intento < numero_aleatorio:\n",
        "                print(\"El número es mayor. Intenta de nuevo.\")\n",
        "            elif intento > numero_aleatorio:\n",
        "                print(\"El número es menor. Intenta de nuevo.\")\n",
        "            else:\n",
        "                print(f\"¡Felicidades! Adivinaste el número en {intentos} intentos.\")\n",
        "                break\n",
        "        except ValueError:\n",
        "            print(\"Por favor, ingresa un número válido.\")\n",
        "\n",
        "if __name__ == \"__main__\":\n",
        "    juego_de_adivinanza()\n"
      ],
      "metadata": {
        "colab": {
          "base_uri": "https://localhost:8080/"
        },
        "id": "m4vJol_BpZ6n",
        "outputId": "d1f074ab-c59f-4f95-94e8-e97b68dc07ad"
      },
      "execution_count": null,
      "outputs": [
        {
          "output_type": "stream",
          "name": "stdout",
          "text": [
            "Bienvenido al juego de adivinanza de números. Adivina el número entre 1 y 100.\n",
            "Introduce tu adivinanza: 58\n",
            "El número es mayor. Intenta de nuevo.\n",
            "Introduce tu adivinanza: 70\n",
            "El número es mayor. Intenta de nuevo.\n",
            "Introduce tu adivinanza: 93\n",
            "El número es mayor. Intenta de nuevo.\n",
            "Introduce tu adivinanza: 99\n",
            "El número es menor. Intenta de nuevo.\n",
            "Introduce tu adivinanza: 95\n",
            "El número es mayor. Intenta de nuevo.\n",
            "Introduce tu adivinanza: 97\n",
            "El número es mayor. Intenta de nuevo.\n",
            "Introduce tu adivinanza: 98\n",
            "¡Felicidades! Adivinaste el número en 7 intentos.\n"
          ]
        }
      ]
    },
    {
      "cell_type": "code",
      "source": [
        "def es_palindromo(cadena):\n",
        "\n",
        "    cadena = cadena.replace(\" \", \"\").lower()\n",
        "\n",
        "    return cadena == cadena[::-1]\n",
        "\n",
        "if __name__ == \"__main__\":\n",
        "    cadena = input(\"Ingresa una cadena: \")\n",
        "\n",
        "    if es_palindromo(cadena):\n",
        "        print(\"Es un palíndromo.\")\n",
        "    else:\n",
        "        print(\"No es un palíndromo.\")"
      ],
      "metadata": {
        "colab": {
          "base_uri": "https://localhost:8080/"
        },
        "id": "xdFvfGrTpv0l",
        "outputId": "53409b4e-9e25-41fe-ad87-e28d12c3f861"
      },
      "execution_count": null,
      "outputs": [
        {
          "output_type": "stream",
          "name": "stdout",
          "text": [
            "Ingresa una cadena: err\n",
            "No es un palíndromo.\n"
          ]
        }
      ]
    },
    {
      "cell_type": "code",
      "source": [
        "import datetime\n",
        "\n",
        "def calcular_dia_semana():\n",
        "    while True:\n",
        "        try:\n",
        "            year = int(input(\"Ingresa el año (por ejemplo, 2023): \"))\n",
        "            month = int(input(\"Ingresa el mes (1-12): \"))\n",
        "            day = int(input(\"Ingresa el día (1-31): \"))\n",
        "\n",
        "            fecha = datetime.date(year, month, day)\n",
        "            dia_semana = fecha.strftime(\"%A\")\n",
        "\n",
        "            print(f\"El día de la semana correspondiente a {day}/{month}/{year} es {dia_semana}.\")\n",
        "            break\n",
        "        except ValueError:\n",
        "            print(\"Ingresa una fecha válida.\")\n",
        "\n",
        "if __name__ == \"__main__\":\n",
        "    calcular_dia_semana()"
      ],
      "metadata": {
        "colab": {
          "base_uri": "https://localhost:8080/"
        },
        "id": "JL57rVugp284",
        "outputId": "d9d8330a-30a3-410f-8f1c-00e61c6107db"
      },
      "execution_count": null,
      "outputs": [
        {
          "output_type": "stream",
          "name": "stdout",
          "text": [
            "Ingresa el año (por ejemplo, 2023): 2014\n",
            "Ingresa el mes (1-12): 2\n",
            "Ingresa el día (1-31): 28\n",
            "El día de la semana correspondiente a 28/2/2014 es Friday.\n"
          ]
        }
      ]
    },
    {
      "cell_type": "code",
      "source": [
        "def convertir_calificacion_a_letra(calificacion):\n",
        "    if calificacion >= 90:\n",
        "        return \"A\"\n",
        "    elif calificacion >= 80:\n",
        "        return \"B\"\n",
        "    elif calificacion >= 70:\n",
        "        return \"C\"\n",
        "    elif calificacion >= 60:\n",
        "        return \"D\"\n",
        "    else:\n",
        "        return \"F\"\n",
        "\n",
        "def main():\n",
        "    try:\n",
        "        calificacion = float(input(\"Ingresa la calificación numérica: \"))\n",
        "        if 0 <= calificacion <= 100:\n",
        "            letra = convertir_calificacion_a_letra(calificacion)\n",
        "            print(f\"La calificación {calificacion} equivale a una letra {letra}.\")\n",
        "        else:\n",
        "            print(\"La calificación debe estar en el rango de 0 a 100.\")\n",
        "    except ValueError:\n",
        "        print(\"Por favor, ingresa una calificación numérica válida.\")\n",
        "\n",
        "if __name__ == \"__main__\":\n",
        "    main()\n"
      ],
      "metadata": {
        "colab": {
          "base_uri": "https://localhost:8080/"
        },
        "id": "s60aeq_bqBAO",
        "outputId": "93e49637-79c0-428b-b42b-6258e9dfe472"
      },
      "execution_count": null,
      "outputs": [
        {
          "output_type": "stream",
          "name": "stdout",
          "text": [
            "Ingresa la calificación numérica: 3.5\n",
            "La calificación 3.5 equivale a una letra F.\n"
          ]
        }
      ]
    },
    {
      "cell_type": "code",
      "source": [
        "import re\n",
        "\n",
        "def verificar_contrasena(contrasena):\n",
        "    if len(contrasena) < 8:\n",
        "        return False\n",
        "\n",
        "    # Verificar si la contraseña contiene letras (mayúsculas y minúsculas), números y símbolos.\n",
        "    if re.match(r'^(?=.*[a-z])(?=.*[A-Z])(?=.*\\d)(?=.*[@#$%^&+=])', contrasena):\n",
        "        return True\n",
        "    else:\n",
        "        return False\n",
        "\n",
        "def main():\n",
        "    contrasena = input(\"Ingresa tu contraseña: \")\n",
        "    es_segura = verificar_contrasena(contrasena)\n",
        "\n",
        "    if es_segura:\n",
        "        print(\"La contraseña es segura.\")\n",
        "    else:\n",
        "        print(\"La contraseña no cumple con los requisitos de seguridad.\")\n",
        "\n",
        "if __name__ == \"__main__\":\n",
        "    main()\n"
      ],
      "metadata": {
        "colab": {
          "base_uri": "https://localhost:8080/"
        },
        "id": "a3PyoaTJqHn8",
        "outputId": "8302b35a-df01-4077-f864-4a66500b74dc"
      },
      "execution_count": null,
      "outputs": [
        {
          "output_type": "stream",
          "name": "stdout",
          "text": [
            "Ingresa tu contraseña: 1234\n",
            "La contraseña no cumple con los requisitos de seguridad.\n"
          ]
        }
      ]
    },
    {
      "cell_type": "code",
      "source": [
        "numero = 1\n",
        "\n",
        "while numero <= 10:\n",
        "    print(numero)\n",
        "    numero += 1"
      ],
      "metadata": {
        "colab": {
          "base_uri": "https://localhost:8080/"
        },
        "id": "1mQ2lkTXqOx6",
        "outputId": "756584a0-4804-4951-aefb-303de4f8d925"
      },
      "execution_count": null,
      "outputs": [
        {
          "output_type": "stream",
          "name": "stdout",
          "text": [
            "1\n",
            "2\n",
            "3\n",
            "4\n",
            "5\n",
            "6\n",
            "7\n",
            "8\n",
            "9\n",
            "10\n"
          ]
        }
      ]
    },
    {
      "cell_type": "code",
      "source": [
        "suma = 0\n",
        "\n",
        "for numero in range(1, 101):\n",
        "    suma += numero\n",
        "\n",
        "print(f\"La suma de los números del 1 al 100 es: {suma}\")\n"
      ],
      "metadata": {
        "colab": {
          "base_uri": "https://localhost:8080/"
        },
        "id": "C7xLE2LPqVJQ",
        "outputId": "3de581b0-af19-4a19-deae-4c054c20d9f9"
      },
      "execution_count": null,
      "outputs": [
        {
          "output_type": "stream",
          "name": "stdout",
          "text": [
            "La suma de los números del 1 al 100 es: 5050\n"
          ]
        }
      ]
    },
    {
      "cell_type": "code",
      "source": [
        "def generar_fibonacci(n):\n",
        "    fibonacci = [0, 1]  # Inicializamos la secuencia con los dos primeros términos\n",
        "\n",
        "    while len(fibonacci) < n:\n",
        "        siguiente_termino = fibonacci[-1] + fibonacci[-2]\n",
        "        fibonacci.append(siguiente_termino)\n",
        "\n",
        "    return fibonacci\n",
        "\n",
        "def main():\n",
        "    try:\n",
        "        n = int(input(\"Ingresa el valor de n para generar la secuencia de Fibonacci hasta el término n: \"))\n",
        "        if n <= 0:\n",
        "            print(\"Por favor, ingresa un número positivo mayor que cero.\")\n",
        "        else:\n",
        "            secuencia_fibonacci = generar_fibonacci(n)\n",
        "            print(f\"La secuencia de Fibonacci hasta el término {n} es: {secuencia_fibonacci}\")\n",
        "    except ValueError:\n",
        "        print(\"Por favor, ingresa un número entero válido.\")\n",
        "\n",
        "if __name__ == \"__main__\":\n",
        "    main()"
      ],
      "metadata": {
        "colab": {
          "base_uri": "https://localhost:8080/"
        },
        "id": "IQN6tD_eqYfU",
        "outputId": "66f4decc-7168-4f35-a667-e919b70c59af"
      },
      "execution_count": null,
      "outputs": [
        {
          "output_type": "stream",
          "name": "stdout",
          "text": [
            "Ingresa el valor de n para generar la secuencia de Fibonacci hasta el término n: 21\n",
            "La secuencia de Fibonacci hasta el término 21 es: [0, 1, 1, 2, 3, 5, 8, 13, 21, 34, 55, 89, 144, 233, 377, 610, 987, 1597, 2584, 4181, 6765]\n"
          ]
        }
      ]
    },
    {
      "cell_type": "code",
      "source": [
        "def calcular_factorial(numero):\n",
        "    factorial = 1\n",
        "    i = 1\n",
        "\n",
        "    while i <= numero:\n",
        "        factorial *= i\n",
        "        i += 1\n",
        "\n",
        "    return factorial\n",
        "\n",
        "def main():\n",
        "    try:\n",
        "        numero = int(input(\"Ingresa un número para calcular su factorial: \"))\n",
        "        if numero < 0:\n",
        "            print(\"El factorial no está definido para números negativos.\")\n",
        "        else:\n",
        "            resultado = calcular_factorial(numero)\n",
        "            print(f\"El factorial de {numero} es: {resultado}\")\n",
        "    except ValueError:\n",
        "        print(\"Por favor, ingresa un número entero válido.\")\n",
        "\n",
        "if __name__ == \"__main__\":\n",
        "    main()\n"
      ],
      "metadata": {
        "colab": {
          "base_uri": "https://localhost:8080/"
        },
        "id": "CeQdREKfqlEt",
        "outputId": "31323600-b674-4818-bf41-00b85d58d6e6"
      },
      "execution_count": null,
      "outputs": [
        {
          "output_type": "stream",
          "name": "stdout",
          "text": [
            "Ingresa un número para calcular su factorial: 52\n",
            "El factorial de 52 es: 80658175170943878571660636856403766975289505440883277824000000000000\n"
          ]
        }
      ]
    },
    {
      "cell_type": "code",
      "source": [
        "def es_primo(numero):\n",
        "    if numero <= 1:\n",
        "        return False\n",
        "    elif numero <= 3:\n",
        "        return True\n",
        "    elif numero % 2 == 0 or numero % 3 == 0:\n",
        "        return False\n",
        "\n",
        "    i = 5\n",
        "    while i * i <= numero:\n",
        "        if numero % i == 0 or numero % (i + 2) == 0:\n",
        "            return False\n",
        "        i += 6\n",
        "\n",
        "    return True\n",
        "\n",
        "def main():\n",
        "    try:\n",
        "        numero = int(input(\"Ingresa un número para verificar si es primo: \"))\n",
        "        if es_primo(numero):\n",
        "            print(f\"{numero} es un número primo.\")\n",
        "        else:\n",
        "            print(f\"{numero} no es un número primo.\")\n",
        "    except ValueError:\n",
        "        print(\"Por favor, ingresa un número entero válido.\")\n",
        "\n",
        "if __name__ == \"__main__\":\n",
        "    main()\n"
      ],
      "metadata": {
        "colab": {
          "base_uri": "https://localhost:8080/"
        },
        "id": "7OpW-EzMqtAA",
        "outputId": "a815349b-8e1b-4540-d370-e4ec6ebb4949"
      },
      "execution_count": null,
      "outputs": [
        {
          "output_type": "stream",
          "name": "stdout",
          "text": [
            "Ingresa un número para verificar si es primo: 22\n",
            "22 no es un número primo.\n"
          ]
        }
      ]
    },
    {
      "cell_type": "code",
      "source": [
        "def es_primo(numero):\n",
        "    if numero <= 1:\n",
        "        return False\n",
        "    elif numero <= 3:\n",
        "        return True\n",
        "    elif numero % 2 == 0 or numero % 3 == 0:\n",
        "        return False\n",
        "\n",
        "    i = 5\n",
        "    while i * i <= numero:\n",
        "        if numero % i == 0 or numero % (i + 2) == 0:\n",
        "            return False\n",
        "        i += 6\n",
        "\n",
        "    return True\n",
        "\n",
        "def main():\n",
        "    try:\n",
        "        numero = int(input(\"Ingresa un número para verificar si es primo: \"))\n",
        "        if es_primo(numero):\n",
        "            print(f\"{numero} es un número primo.\")\n",
        "        else:\n",
        "            print(f\"{numero} no es un número primo.\")\n",
        "    except ValueError:\n",
        "        print(\"Por favor, ingresa un número entero válido.\")\n",
        "\n",
        "if __name__ == \"__main__\":\n",
        "    main()"
      ],
      "metadata": {
        "colab": {
          "base_uri": "https://localhost:8080/"
        },
        "id": "XMCCnkuiqyY7",
        "outputId": "cdbe0888-b168-41a5-cbb3-55a59c259d02"
      },
      "execution_count": null,
      "outputs": [
        {
          "output_type": "stream",
          "name": "stdout",
          "text": [
            "Ingresa un número para verificar si es primo: 25\n",
            "25 no es un número primo.\n"
          ]
        }
      ]
    },
    {
      "cell_type": "code",
      "source": [
        "def tabla_de_multiplicar(numero):\n",
        "    print(f\"Tabla de multiplicar del {numero}:\")\n",
        "    for i in range(1, 11):\n",
        "        resultado = numero * i\n",
        "        print(f\"{numero} x {i} = {resultado}\")\n",
        "\n",
        "def main():\n",
        "    try:\n",
        "        numero = int(input(\"Ingresa un número para mostrar su tabla de multiplicar: \"))\n",
        "        tabla_de_multiplicar(numero)\n",
        "    except ValueError:\n",
        "        print(\"Por favor, ingresa un número entero válido.\")\n",
        "\n",
        "if __name__ == \"__main__\":\n",
        "    main()\n"
      ],
      "metadata": {
        "colab": {
          "base_uri": "https://localhost:8080/"
        },
        "id": "zES-WO5Cq4f8",
        "outputId": "49ebc186-6848-40ee-e405-f158c6e3ac8f"
      },
      "execution_count": null,
      "outputs": [
        {
          "output_type": "stream",
          "name": "stdout",
          "text": [
            "Ingresa un número para mostrar su tabla de multiplicar: 5\n",
            "Tabla de multiplicar del 5:\n",
            "5 x 1 = 5\n",
            "5 x 2 = 10\n",
            "5 x 3 = 15\n",
            "5 x 4 = 20\n",
            "5 x 5 = 25\n",
            "5 x 6 = 30\n",
            "5 x 7 = 35\n",
            "5 x 8 = 40\n",
            "5 x 9 = 45\n",
            "5 x 10 = 50\n"
          ]
        }
      ]
    },
    {
      "cell_type": "code",
      "source": [
        "def suma_de_digitos(numero):\n",
        "    suma = 0\n",
        "    while numero > 0:\n",
        "        digito = numero % 10\n",
        "        suma += digito\n",
        "        numero //= 10\n",
        "    return suma\n",
        "\n",
        "def main():\n",
        "    try:\n",
        "        numero = int(input(\"Ingresa un número entero: \"))\n",
        "        if numero < 0:\n",
        "            numero = abs(numero)  # Si el número es negativo, tomamos el valor absoluto\n",
        "        resultado = suma_de_digitos(numero)\n",
        "        print(f\"La suma de los dígitos de {numero} es: {resultado}\")\n",
        "    except ValueError:\n",
        "        print(\"Por favor, ingresa un número entero válido.\")\n",
        "\n",
        "if __name__ == \"__main__\":\n",
        "    main()\n"
      ],
      "metadata": {
        "colab": {
          "base_uri": "https://localhost:8080/"
        },
        "id": "nbLiwWkTq9G9",
        "outputId": "ef640439-0614-427c-c1d1-8e6ef445ec9c"
      },
      "execution_count": null,
      "outputs": [
        {
          "output_type": "stream",
          "name": "stdout",
          "text": [
            "Ingresa un número entero: 45\n",
            "La suma de los dígitos de 45 es: 9\n"
          ]
        }
      ]
    },
    {
      "cell_type": "code",
      "source": [
        "numeros = []\n",
        "numero = 0\n",
        "\n",
        "while numero >= 0:\n",
        "    numero = float(input(\"Ingresa un número (ingresa un número negativo para finalizar): \"))\n",
        "    if numero >= 0:\n",
        "        numeros.append(numero)\n",
        "\n",
        "if numeros:\n",
        "    suma = sum(numeros)\n",
        "    promedio = suma / len(numeros)\n",
        "    print(f\"La suma de los números ingresados es: {suma}\")\n",
        "    print(f\"El promedio de los números ingresados es: {promedio}\")\n",
        "else:\n",
        "    print(\"No se ingresaron números válidos.\")\n"
      ],
      "metadata": {
        "colab": {
          "base_uri": "https://localhost:8080/"
        },
        "id": "AFDibWptrf18",
        "outputId": "25f0816d-cb02-4750-d58b-c534bbfc052e"
      },
      "execution_count": null,
      "outputs": [
        {
          "output_type": "stream",
          "name": "stdout",
          "text": [
            "Ingresa un número (ingresa un número negativo para finalizar): 5\n",
            "Ingresa un número (ingresa un número negativo para finalizar): 7\n",
            "Ingresa un número (ingresa un número negativo para finalizar): 9\n",
            "Ingresa un número (ingresa un número negativo para finalizar): -5\n",
            "La suma de los números ingresados es: 21.0\n",
            "El promedio de los números ingresados es: 7.0\n"
          ]
        }
      ]
    },
    {
      "cell_type": "code",
      "source": [
        "def factorial_while(numero):\n",
        "    factorial = 1\n",
        "    i = 1\n",
        "    while i <= numero:\n",
        "        factorial *= i\n",
        "        i += 1\n",
        "    return factorial\n",
        "\n",
        "def factorial_for(numero):\n",
        "    factorial = 1\n",
        "    for i in range(1, numero + 1):\n",
        "        factorial *= i\n",
        "    return factorial\n",
        "\n",
        "def main():\n",
        "    try:\n",
        "        numero = int(input(\"Ingresa un número para calcular su factorial: \"))\n",
        "        if numero < 0:\n",
        "            print(\"El factorial no está definido para números negativos.\")\n",
        "        else:\n",
        "            metodo = input(\"¿Deseas calcular el factorial con un bucle 'while' o 'for'? \").lower()\n",
        "            if metodo == 'while':\n",
        "                resultado = factorial_while(numero)\n",
        "            elif metodo == 'for':\n",
        "                resultado = factorial_for(numero)\n",
        "            else:\n",
        "                print(\"Método no válido. Por favor, elige 'while' o 'for'.\")\n",
        "                return\n",
        "\n",
        "            print(f\"El factorial de {numero} es: {resultado}\")\n",
        "    except ValueError:\n",
        "        print(\"Por favor, ingresa un número entero válido.\")\n",
        "\n",
        "if __name__ == \"__main__\":\n",
        "    main()\n"
      ],
      "metadata": {
        "colab": {
          "base_uri": "https://localhost:8080/"
        },
        "id": "CIn0_ZtSroeN",
        "outputId": "ad1050da-4c4d-4550-bba8-1c2c720673a9"
      },
      "execution_count": null,
      "outputs": [
        {
          "output_type": "stream",
          "name": "stdout",
          "text": [
            "Ingresa un número para calcular su factorial: 78\n",
            "¿Deseas calcular el factorial con un bucle 'while' o 'for'? for\n",
            "El factorial de 78 es: 11324281178206297831457521158732046228731749579488251990048962825668835325234200766245086213177344000000000000000000\n"
          ]
        }
      ]
    }
  ]
}